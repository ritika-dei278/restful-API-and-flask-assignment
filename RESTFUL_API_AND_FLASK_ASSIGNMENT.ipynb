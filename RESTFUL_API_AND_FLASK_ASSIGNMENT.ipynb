{
  "nbformat": 4,
  "nbformat_minor": 0,
  "metadata": {
    "colab": {
      "provenance": []
    },
    "kernelspec": {
      "name": "python3",
      "display_name": "Python 3"
    },
    "language_info": {
      "name": "python"
    }
  },
  "cells": [
    {
      "cell_type": "markdown",
      "source": [
        "#PRACTICAL QUESTIONS\n"
      ],
      "metadata": {
        "id": "Nk2AEiqstqi6"
      }
    },
    {
      "cell_type": "code",
      "source": [
        "#2 How do you serve static files like images or CSS in Flask4\n",
        "<link rel=\"stylesheet\" href=\"{{ url_for('static', filename='style.css') }}\">\n",
        "<img src=\"{{ url_for('static', filename='logo.png') }}\" alt=\"Logo\">"
      ],
      "metadata": {
        "id": "YA_kSGwytphD",
        "colab": {
          "base_uri": "https://localhost:8080/",
          "height": 106
        },
        "outputId": "9b0ff233-f988-4216-d677-053898b2d8a5"
      },
      "execution_count": 3,
      "outputs": [
        {
          "output_type": "error",
          "ename": "SyntaxError",
          "evalue": "invalid syntax (<ipython-input-3-4a372a6e1634>, line 2)",
          "traceback": [
            "\u001b[0;36m  File \u001b[0;32m\"<ipython-input-3-4a372a6e1634>\"\u001b[0;36m, line \u001b[0;32m2\u001b[0m\n\u001b[0;31m    <link rel=\"stylesheet\" href=\"{{ url_for('static', filename='style.css') }}\">\u001b[0m\n\u001b[0m    ^\u001b[0m\n\u001b[0;31mSyntaxError\u001b[0m\u001b[0;31m:\u001b[0m invalid syntax\n"
          ]
        }
      ]
    },
    {
      "cell_type": "code",
      "source": [
        "#3 How do you define different routes with different HTTP methods in Flask4\n",
        "@app.route('/submit', methods=['GET', 'POST'])\n",
        "def submit():\n",
        "    if request.method == 'POST':\n",
        "        return \"Handling POST request\"\n",
        "    return \"Handling GET request\""
      ],
      "metadata": {
        "id": "R302OMuStpeA"
      },
      "execution_count": null,
      "outputs": []
    },
    {
      "cell_type": "code",
      "source": [
        "#4 How do you render HTML templates in Flask4\n",
        "from flask import render_template\n",
        "\n",
        "@app.route('/')\n",
        "def home():\n",
        "    return render_template('index.html')"
      ],
      "metadata": {
        "id": "gfsZfF0utpbP"
      },
      "execution_count": null,
      "outputs": []
    },
    {
      "cell_type": "code",
      "source": [
        "#5 How can you generate URLs for routes in Flask using url_for4\n",
        "from flask import url_for\n",
        "\n",
        "@app.route('/profile/<username>')\n",
        "def profile(username):\n",
        "    return f\"Profile page of {username}\"\n",
        "\n",
        "# Generate URL\n",
        "url_for('profile', username='JohnDoe')  # Output: '/profile/JohnDoe'"
      ],
      "metadata": {
        "id": "Rsv2nRbBtpY3"
      },
      "execution_count": null,
      "outputs": []
    },
    {
      "cell_type": "code",
      "source": [
        "#6 How do you handle forms in Flask4\n",
        "from flask import request\n",
        "\n",
        "@app.route('/submit', methods=['POST'])\n",
        "def submit():\n",
        "    name = request.form['name']\n",
        "    return f\"Hello, {name}!\""
      ],
      "metadata": {
        "id": "mT0-_ZwUtpWJ",
        "colab": {
          "base_uri": "https://localhost:8080/",
          "height": 211
        },
        "outputId": "e20976a1-f849-4c9b-d2eb-7fe41fcd5cd1"
      },
      "execution_count": 2,
      "outputs": [
        {
          "output_type": "error",
          "ename": "NameError",
          "evalue": "name 'app' is not defined",
          "traceback": [
            "\u001b[0;31m---------------------------------------------------------------------------\u001b[0m",
            "\u001b[0;31mNameError\u001b[0m                                 Traceback (most recent call last)",
            "\u001b[0;32m<ipython-input-2-79e8e8254e39>\u001b[0m in \u001b[0;36m<cell line: 0>\u001b[0;34m()\u001b[0m\n\u001b[1;32m      2\u001b[0m \u001b[0;32mfrom\u001b[0m \u001b[0mflask\u001b[0m \u001b[0;32mimport\u001b[0m \u001b[0mrequest\u001b[0m\u001b[0;34m\u001b[0m\u001b[0;34m\u001b[0m\u001b[0m\n\u001b[1;32m      3\u001b[0m \u001b[0;34m\u001b[0m\u001b[0m\n\u001b[0;32m----> 4\u001b[0;31m \u001b[0;34m@\u001b[0m\u001b[0mapp\u001b[0m\u001b[0;34m.\u001b[0m\u001b[0mroute\u001b[0m\u001b[0;34m(\u001b[0m\u001b[0;34m'/submit'\u001b[0m\u001b[0;34m,\u001b[0m \u001b[0mmethods\u001b[0m\u001b[0;34m=\u001b[0m\u001b[0;34m[\u001b[0m\u001b[0;34m'POST'\u001b[0m\u001b[0;34m]\u001b[0m\u001b[0;34m)\u001b[0m\u001b[0;34m\u001b[0m\u001b[0;34m\u001b[0m\u001b[0m\n\u001b[0m\u001b[1;32m      5\u001b[0m \u001b[0;32mdef\u001b[0m \u001b[0msubmit\u001b[0m\u001b[0;34m(\u001b[0m\u001b[0;34m)\u001b[0m\u001b[0;34m:\u001b[0m\u001b[0;34m\u001b[0m\u001b[0;34m\u001b[0m\u001b[0m\n\u001b[1;32m      6\u001b[0m     \u001b[0mname\u001b[0m \u001b[0;34m=\u001b[0m \u001b[0mrequest\u001b[0m\u001b[0;34m.\u001b[0m\u001b[0mform\u001b[0m\u001b[0;34m[\u001b[0m\u001b[0;34m'name'\u001b[0m\u001b[0;34m]\u001b[0m\u001b[0;34m\u001b[0m\u001b[0;34m\u001b[0m\u001b[0m\n",
            "\u001b[0;31mNameError\u001b[0m: name 'app' is not defined"
          ]
        }
      ]
    },
    {
      "cell_type": "code",
      "source": [
        "#7 How can you validate form data in Flask4\n",
        "from flask_wtf import FlaskForm\n",
        "from wtforms import StringField, validators\n",
        "\n",
        "class MyForm(FlaskForm):\n",
        "    name = StringField('Name', [validators.DataRequired()])"
      ],
      "metadata": {
        "id": "oS32MUUltpSw"
      },
      "execution_count": null,
      "outputs": []
    },
    {
      "cell_type": "code",
      "source": [
        "#8 How do you manage sessions in Flask4\n",
        "from flask import session\n",
        "\n",
        "app.secret_key = \"supersecret\"\n",
        "\n",
        "@app.route('/login')\n",
        "def login():\n",
        "    session['user'] = 'John'\n",
        "    return \"User logged in\"\n",
        "\n",
        "@app.route('/logout')\n",
        "def logout():\n",
        "    session.pop('user', None)\n",
        "    return \"User logged out\""
      ],
      "metadata": {
        "id": "YjNAY8QttpQE"
      },
      "execution_count": null,
      "outputs": []
    },
    {
      "cell_type": "code",
      "source": [
        "#9 How do you redirect to a different route in Flask4\n",
        "from flask import redirect\n",
        "\n",
        "@app.route('/old')\n",
        "def old():\n",
        "    return redirect(url_for('new'))\n",
        "\n",
        "@app.route('/new')\n",
        "def new():\n",
        "    return \"This is the new page\"\n"
      ],
      "metadata": {
        "id": "0gR4MLICtpNK"
      },
      "execution_count": null,
      "outputs": []
    },
    {
      "cell_type": "code",
      "source": [
        "#10 How do you handle errors in Flask (e.g., 404)4\n",
        "@app.errorhandler(404)\n",
        "def not_found(error):\n",
        "    return \"Page not found\", 404\n"
      ],
      "metadata": {
        "id": "GKZjDsoyuAsz"
      },
      "execution_count": null,
      "outputs": []
    },
    {
      "cell_type": "code",
      "source": [
        "#11 How do you structure a Flask app using Blueprints4\n",
        "from flask import Blueprint\n",
        "\n",
        "bp = Blueprint('my_blueprint', __name__)\n",
        "\n",
        "@bp.route('/hello')\n",
        "def hello():\n",
        "    return \"Hello from blueprint\"\n",
        "\n",
        "app.register_blueprint(bp, url_prefix='/bp')\n"
      ],
      "metadata": {
        "id": "0J8vVqoyuApd"
      },
      "execution_count": null,
      "outputs": []
    },
    {
      "cell_type": "code",
      "source": [
        "#12 How do you define a custom Jinja filter in Flask4\n",
        "@app.template_filter('reverse')\n",
        "def reverse_filter(s):\n",
        "    return s[::-1]"
      ],
      "metadata": {
        "id": "mMfg4jeSuAm3"
      },
      "execution_count": null,
      "outputs": []
    },
    {
      "cell_type": "code",
      "source": [
        "#Use it in a template:\n",
        " {{ \"Hello\" | reverse }}  <!-- Outputs \"olleH\" -->"
      ],
      "metadata": {
        "id": "dJdzuSxZvEjK"
      },
      "execution_count": null,
      "outputs": []
    },
    {
      "cell_type": "code",
      "source": [
        "#13 How can you redirect with query parameters in Flask4\n",
        "@app.route('/redirect')\n",
        "def redirect_with_params():\n",
        "    return redirect(url_for('destination', name='John'))\n",
        "\n",
        "@app.route('/destination')\n",
        "def destination():\n",
        "    name = request.args.get('name')\n",
        "    return f\"Hello, {name}!\""
      ],
      "metadata": {
        "id": "x8ZJXPI0uAjd"
      },
      "execution_count": null,
      "outputs": []
    },
    {
      "cell_type": "code",
      "source": [
        "#14 How do you return JSON responses in Flask4\n",
        "from flask import jsonify\n",
        "\n",
        "@app.route('/json')\n",
        "def json_response():\n",
        "    return jsonify({\"message\": \"Hello, Flask!\"})"
      ],
      "metadata": {
        "id": "rQg4uS9luAhA"
      },
      "execution_count": null,
      "outputs": []
    },
    {
      "cell_type": "code",
      "source": [
        "#15How do you capture URL parameters in Flask?\n",
        "@app.route('/user/<username>')\n",
        "def user_profile(username):\n",
        "    return f\"Profile of {username}\""
      ],
      "metadata": {
        "id": "QFEZwrLvtpKW"
      },
      "execution_count": null,
      "outputs": []
    },
    {
      "cell_type": "code",
      "source": [],
      "metadata": {
        "id": "Ych38amhtpHP"
      },
      "execution_count": null,
      "outputs": []
    },
    {
      "cell_type": "code",
      "source": [],
      "metadata": {
        "id": "hdVYh8QFtpD6"
      },
      "execution_count": null,
      "outputs": []
    }
  ]
}